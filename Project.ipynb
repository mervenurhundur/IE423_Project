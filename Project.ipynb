{
 "cells": [
  {
   "cell_type": "code",
   "execution_count": 274,
   "id": "ecdd33fc",
   "metadata": {},
   "outputs": [],
   "source": [
    "import pandas as pd"
   ]
  },
  {
   "cell_type": "code",
   "execution_count": 275,
   "id": "28a5adf9",
   "metadata": {},
   "outputs": [],
   "source": [
    "df_w = pd.read_csv(\"all_ticks_wide.csv\")\n",
    "df_l = pd.read_csv(\"all_ticks_long.csv\")"
   ]
  },
  {
   "cell_type": "markdown",
   "id": "c8c34953",
   "metadata": {},
   "source": [
    "We created the function Is_Null() which takes a dataframe as input, then returns \"True\" if the dataframe has null values, \"False\" otherwise. "
   ]
  },
  {
   "cell_type": "code",
   "execution_count": 276,
   "id": "e4aa7aaa",
   "metadata": {},
   "outputs": [
    {
     "data": {
      "text/plain": [
       "True"
      ]
     },
     "execution_count": 276,
     "metadata": {},
     "output_type": "execute_result"
    }
   ],
   "source": [
    "def Is_Null(df):\n",
    "    if df.isnull().astype(int).iloc[:,1].sum() > 0:\n",
    "        return True\n",
    "    else:\n",
    "        return False"
   ]
  },
  {
   "cell_type": "markdown",
   "id": "6489aaed",
   "metadata": {},
   "source": [
    "Then, we created another function Find_Outliers() which takes a dataframe and returns the outliers if the dataframe doesn't have any null values."
   ]
  },
  {
   "cell_type": "code",
   "execution_count": 278,
   "id": "09734f2f",
   "metadata": {},
   "outputs": [],
   "source": [
    "def Find_Outliers(df):\n",
    "    if Is_Null(df):\n",
    "        return False\n",
    "    else:\n",
    "        mean = df.iloc[:,1].mean()\n",
    "        std = df.iloc[:,1].std()\n",
    "        upper_limit = mean + 3*std\n",
    "        lower_limit = mean - 3*std\n",
    "        smaller_outliers = df[df.iloc[:,1] < lower_limit]\n",
    "        larger_outliers = df[df.iloc[:,1] > upper_limit]\n",
    "        return smaller_outliers, larger_outliers"
   ]
  },
  {
   "cell_type": "markdown",
   "id": "87632115",
   "metadata": {},
   "source": [
    "Latly, we created the function df_Monthly() which takes a dataframe and a key indicating the year and the month key = (year,month), and returns a new dataframe consisting of the values in the original dataframe in that certain month of the year."
   ]
  },
  {
   "cell_type": "code",
   "execution_count": 429,
   "id": "b167576d",
   "metadata": {},
   "outputs": [],
   "source": [
    "def df_Monthly(df, key):\n",
    "    df_Monthly_dictionary = {}\n",
    "    df[\"timestamp\"] = pd.to_datetime(df[\"timestamp\"])\n",
    "    df_yearly = df[\"timestamp\"].dt.year\n",
    "    for i in range(2012,2020):\n",
    "        df_current_year = df.loc[df_yearly == i]\n",
    "        df_current_year_monthly = df_current_year[\"timestamp\"].dt.month\n",
    "        for k in range(1,13):\n",
    "            \n",
    "            \n",
    "            df_Monthly_dictionary[i,k] = df_current_year.loc[df_current_year_monthly == k]\n",
    "    \n",
    "    return df_Monthly_dictionary.get(key)"
   ]
  },
  {
   "cell_type": "markdown",
   "id": "1cfe04d0",
   "metadata": {},
   "source": [
    "The first stock we choose was BANVT. We created a new dataframe called df_BANVT consisting of two columns that are \"timestamp\" and \"BANVT\". (Son satırı siz n/a değerleri var mı diye bakabilesiniz diye koydum. İkinci satırdaki key değerinde yılı ve ayı değiştirerek deneyebilirsiniz.)"
   ]
  },
  {
   "cell_type": "code",
   "execution_count": 433,
   "id": "ed9f962f",
   "metadata": {},
   "outputs": [
    {
     "data": {
      "text/html": [
       "<div>\n",
       "<style scoped>\n",
       "    .dataframe tbody tr th:only-of-type {\n",
       "        vertical-align: middle;\n",
       "    }\n",
       "\n",
       "    .dataframe tbody tr th {\n",
       "        vertical-align: top;\n",
       "    }\n",
       "\n",
       "    .dataframe thead th {\n",
       "        text-align: right;\n",
       "    }\n",
       "</style>\n",
       "<table border=\"1\" class=\"dataframe\">\n",
       "  <thead>\n",
       "    <tr style=\"text-align: right;\">\n",
       "      <th></th>\n",
       "      <th>timestamp</th>\n",
       "      <th>BANVT</th>\n",
       "    </tr>\n",
       "  </thead>\n",
       "  <tbody>\n",
       "    <tr>\n",
       "      <th>1356</th>\n",
       "      <td>2012-12-03 13:45:00+00:00</td>\n",
       "      <td>NaN</td>\n",
       "    </tr>\n",
       "    <tr>\n",
       "      <th>1379</th>\n",
       "      <td>2012-12-04 13:00:00+00:00</td>\n",
       "      <td>NaN</td>\n",
       "    </tr>\n",
       "    <tr>\n",
       "      <th>1406</th>\n",
       "      <td>2012-12-05 13:15:00+00:00</td>\n",
       "      <td>NaN</td>\n",
       "    </tr>\n",
       "    <tr>\n",
       "      <th>1667</th>\n",
       "      <td>2012-12-19 14:15:00+00:00</td>\n",
       "      <td>NaN</td>\n",
       "    </tr>\n",
       "    <tr>\n",
       "      <th>1739</th>\n",
       "      <td>2012-12-24 12:45:00+00:00</td>\n",
       "      <td>NaN</td>\n",
       "    </tr>\n",
       "    <tr>\n",
       "      <th>1837</th>\n",
       "      <td>2012-12-28 09:45:00+00:00</td>\n",
       "      <td>NaN</td>\n",
       "    </tr>\n",
       "    <tr>\n",
       "      <th>1880</th>\n",
       "      <td>2012-12-31 15:30:00+00:00</td>\n",
       "      <td>NaN</td>\n",
       "    </tr>\n",
       "  </tbody>\n",
       "</table>\n",
       "</div>"
      ],
      "text/plain": [
       "                     timestamp  BANVT\n",
       "1356 2012-12-03 13:45:00+00:00    NaN\n",
       "1379 2012-12-04 13:00:00+00:00    NaN\n",
       "1406 2012-12-05 13:15:00+00:00    NaN\n",
       "1667 2012-12-19 14:15:00+00:00    NaN\n",
       "1739 2012-12-24 12:45:00+00:00    NaN\n",
       "1837 2012-12-28 09:45:00+00:00    NaN\n",
       "1880 2012-12-31 15:30:00+00:00    NaN"
      ]
     },
     "execution_count": 433,
     "metadata": {},
     "output_type": "execute_result"
    }
   ],
   "source": [
    "df_BANVT = df_w.loc[:,[\"timestamp\",\"BANVT\"]]\n",
    "df_BANVT_monthly = df_Monthly(df_BANVT,key = (2012,12))\n",
    "df_BANVT_monthly[df_BANVT_monthly.isna().any(axis=1)]"
   ]
  },
  {
   "cell_type": "code",
   "execution_count": null,
   "id": "b79ad02f",
   "metadata": {},
   "outputs": [],
   "source": []
  }
 ],
 "metadata": {
  "kernelspec": {
   "display_name": "Python 3 (ipykernel)",
   "language": "python",
   "name": "python3"
  },
  "language_info": {
   "codemirror_mode": {
    "name": "ipython",
    "version": 3
   },
   "file_extension": ".py",
   "mimetype": "text/x-python",
   "name": "python",
   "nbconvert_exporter": "python",
   "pygments_lexer": "ipython3",
   "version": "3.11.5"
  }
 },
 "nbformat": 4,
 "nbformat_minor": 5
}
