{
 "cells": [
  {
   "cell_type": "code",
   "execution_count": 545,
   "id": "ecdd33fc",
   "metadata": {},
   "outputs": [],
   "source": [
    "import pandas as pd"
   ]
  },
  {
   "cell_type": "code",
   "execution_count": 546,
   "id": "28a5adf9",
   "metadata": {},
   "outputs": [],
   "source": [
    "df_w = pd.read_csv(\"all_ticks_wide.csv\")\n",
    "df_l = pd.read_csv(\"all_ticks_long.csv\")"
   ]
  },
  {
   "cell_type": "markdown",
   "id": "45d7660f",
   "metadata": {},
   "source": [
    "We created the function Is_Null() which takes a dataframe as input, then returns \"True\" if the dataframe has null values, \"False\" otherwise. "
   ]
  },
  {
   "cell_type": "code",
   "execution_count": 547,
   "id": "a45bc289",
   "metadata": {},
   "outputs": [],
   "source": [
    "def Is_Null(df):\n",
    "    if df.isnull().astype(int).iloc[:,1].sum() > 0:\n",
    "        return True\n",
    "    else:\n",
    "        return False"
   ]
  },
  {
   "cell_type": "markdown",
   "id": "49976658",
   "metadata": {},
   "source": [
    "Then, we created another function Find_Outliers() which takes a dataframe and returns the outliers if the dataframe doesn't have any null values."
   ]
  },
  {
   "cell_type": "code",
   "execution_count": 554,
   "id": "c6644966",
   "metadata": {},
   "outputs": [],
   "source": [
    "def Find_Outliers(df):\n",
    "        mean = df.iloc[:,1].mean()\n",
    "        std = df.iloc[:,1].std()\n",
    "        upper_limit = mean + 3*std\n",
    "        lower_limit = mean - 3*std\n",
    "        smaller_outliers = df[df.iloc[:,1] < lower_limit]\n",
    "        larger_outliers = df[df.iloc[:,1] > upper_limit]\n",
    "        outliers = {\"smaller_outliers\" : smaller_outliers, \"larger_outliers\" : larger_outliers }\n",
    "        \n",
    "        return outliers"
   ]
  },
  {
   "cell_type": "markdown",
   "id": "c4615ed4",
   "metadata": {},
   "source": [
    "Latly, we created the function df_Monthly() which takes a dataframe and a key indicating the year and the month key = (year,month), and returns a new dataframe consisting of the values in the original dataframe in that certain month of the year."
   ]
  },
  {
   "cell_type": "code",
   "execution_count": 549,
   "id": "5f248b5b",
   "metadata": {},
   "outputs": [],
   "source": [
    "def df_Monthly(df, key):\n",
    "    df_Monthly_dictionary = {}\n",
    "    df[\"timestamp\"] = pd.to_datetime(df[\"timestamp\"])\n",
    "    df_yearly = df[\"timestamp\"].dt.year\n",
    "    for i in range(2012,2020):\n",
    "        df_current_year = df.loc[df_yearly == i]\n",
    "        df_current_year_monthly = df_current_year[\"timestamp\"].dt.month\n",
    "        for k in range(1,13):\n",
    "            \n",
    "            \n",
    "            df_Monthly_dictionary[i,k] = df_current_year.loc[df_current_year_monthly == k]\n",
    "    \n",
    "    return df_Monthly_dictionary.get(key)"
   ]
  },
  {
   "cell_type": "code",
   "execution_count": 556,
   "id": "3f2ff1a7",
   "metadata": {},
   "outputs": [
    {
     "name": "stderr",
     "output_type": "stream",
     "text": [
      "/var/folders/cf/_k312bcs4cz5drltq2t23_kw0000gn/T/ipykernel_50489/3785267558.py:3: FutureWarning: DataFrame.interpolate with object dtype is deprecated and will raise in a future version. Call obj.infer_objects(copy=False) before interpolating instead.\n",
      "  df_column_without_null = df_column.interpolate()\n"
     ]
    },
    {
     "data": {
      "text/plain": [
       "{'smaller_outliers':                       timestamp  CEMAS\n",
       " 47532 2019-03-27 13:30:00+00:00   0.71\n",
       " 47533 2019-03-27 13:45:00+00:00   0.71,\n",
       " 'larger_outliers':                       timestamp  CEMAS\n",
       " 46953 2019-03-01 12:45:00+00:00   0.85}"
      ]
     },
     "execution_count": 556,
     "metadata": {},
     "output_type": "execute_result"
    }
   ],
   "source": [
    "def Func(df,column_name,key):\n",
    "    df_column = df.loc[:,[\"timestamp\",column_name]]\n",
    "    df_column_without_null = df_column.interpolate()\n",
    "    df_column_monthly = df_Monthly(df_column_without_null, key)\n",
    "    return Find_Outliers(df_column_monthly)\n",
    "    \n",
    "    \n",
    "\n",
    "\n",
    "Func(df_w,column_name = \"CEMAS\", key = (2019,3))\n",
    "\n",
    "#df_CEMAS = df_w.loc[:,[\"timestamp\",\"CEMAS\"]]\n",
    "#df_CEMAS_without_null = df_CEMAS.interpolate()\n",
    "#df_CEMAS_monthly = df_Monthly(df_CEMAS_without_null,key = (2019,5))\n",
    "#Find_Outliers(df_CEMAS_monthly)"
   ]
  }
 ],
 "metadata": {
  "kernelspec": {
   "display_name": "Python 3 (ipykernel)",
   "language": "python",
   "name": "python3"
  },
  "language_info": {
   "codemirror_mode": {
    "name": "ipython",
    "version": 3
   },
   "file_extension": ".py",
   "mimetype": "text/x-python",
   "name": "python",
   "nbconvert_exporter": "python",
   "pygments_lexer": "ipython3",
   "version": "3.11.5"
  }
 },
 "nbformat": 4,
 "nbformat_minor": 5
}
